{
 "cells": [
  {
   "cell_type": "code",
   "execution_count": 1,
   "metadata": {},
   "outputs": [
    {
     "name": "stdout",
     "output_type": "stream",
     "text": [
      "Requirement already satisfied: kmodes in /Users/raj/miniconda3/envs/cyber/lib/python3.10/site-packages (0.12.1)\n",
      "Requirement already satisfied: numpy>=1.10.4 in /Users/raj/miniconda3/envs/cyber/lib/python3.10/site-packages (from kmodes) (1.22.3)\n",
      "Requirement already satisfied: scikit-learn>=0.22.0 in /Users/raj/miniconda3/envs/cyber/lib/python3.10/site-packages (from kmodes) (1.1.1)\n",
      "Requirement already satisfied: joblib>=0.11 in /Users/raj/miniconda3/envs/cyber/lib/python3.10/site-packages (from kmodes) (1.1.0)\n",
      "Requirement already satisfied: scipy>=0.13.3 in /Users/raj/miniconda3/envs/cyber/lib/python3.10/site-packages (from kmodes) (1.8.1)\n",
      "Requirement already satisfied: threadpoolctl>=2.0.0 in /Users/raj/miniconda3/envs/cyber/lib/python3.10/site-packages (from scikit-learn>=0.22.0->kmodes) (3.1.0)\n"
     ]
    }
   ],
   "source": [
    "!pip install kmodes"
   ]
  },
  {
   "cell_type": "code",
   "execution_count": 2,
   "metadata": {},
   "outputs": [],
   "source": [
    "import numpy as np\n",
    "import pandas as pd\n",
    "import matplotlib.pyplot as plt\n",
    "from sklearn.cluster import KMeans\n",
    "from kmodes.kprototypes import KPrototypes\n",
    "from calendar import month_abbr\n",
    "from sklearn.preprocessing import StandardScaler, MinMaxScaler\n",
    "from sklearn.decomposition import PCA\n",
    "import seaborn as sns\n"
   ]
  },
  {
   "cell_type": "code",
   "execution_count": 3,
   "metadata": {},
   "outputs": [
    {
     "data": {
      "text/html": [
       "<div>\n",
       "<style scoped>\n",
       "    .dataframe tbody tr th:only-of-type {\n",
       "        vertical-align: middle;\n",
       "    }\n",
       "\n",
       "    .dataframe tbody tr th {\n",
       "        vertical-align: top;\n",
       "    }\n",
       "\n",
       "    .dataframe thead th {\n",
       "        text-align: right;\n",
       "    }\n",
       "</style>\n",
       "<table border=\"1\" class=\"dataframe\">\n",
       "  <thead>\n",
       "    <tr style=\"text-align: right;\">\n",
       "      <th></th>\n",
       "      <th>Unnamed: 0</th>\n",
       "      <th>school</th>\n",
       "      <th>classname</th>\n",
       "      <th>subject</th>\n",
       "      <th>CorrectAnswers</th>\n",
       "      <th>TotalAnswers</th>\n",
       "      <th>CorrectAdaptive</th>\n",
       "      <th>TotalAdaptiveAnswers</th>\n",
       "      <th>TotalAdaptiveExercises</th>\n",
       "      <th>TotalExercises</th>\n",
       "      <th>periode.van</th>\n",
       "      <th>periode.tot</th>\n",
       "      <th>lln.ID.school</th>\n",
       "      <th>van.tot</th>\n",
       "    </tr>\n",
       "  </thead>\n",
       "  <tbody>\n",
       "    <tr>\n",
       "      <th>0</th>\n",
       "      <td>0</td>\n",
       "      <td>148</td>\n",
       "      <td>1996922</td>\n",
       "      <td>Automatiseren (extra)</td>\n",
       "      <td>21.0</td>\n",
       "      <td>25.0</td>\n",
       "      <td>0.0</td>\n",
       "      <td>0.0</td>\n",
       "      <td>0.0</td>\n",
       "      <td>21.0</td>\n",
       "      <td>aug 2014</td>\n",
       "      <td>jan 2015</td>\n",
       "      <td>3566797</td>\n",
       "      <td>aug2014|jan2015</td>\n",
       "    </tr>\n",
       "    <tr>\n",
       "      <th>1</th>\n",
       "      <td>1</td>\n",
       "      <td>148</td>\n",
       "      <td>1996922</td>\n",
       "      <td>Rekenen</td>\n",
       "      <td>295.0</td>\n",
       "      <td>492.0</td>\n",
       "      <td>64.0</td>\n",
       "      <td>77.0</td>\n",
       "      <td>65.0</td>\n",
       "      <td>340.0</td>\n",
       "      <td>aug 2014</td>\n",
       "      <td>jan 2015</td>\n",
       "      <td>3566797</td>\n",
       "      <td>aug2014|jan2015</td>\n",
       "    </tr>\n",
       "    <tr>\n",
       "      <th>2</th>\n",
       "      <td>2</td>\n",
       "      <td>148</td>\n",
       "      <td>1996922</td>\n",
       "      <td>Spelling</td>\n",
       "      <td>296.0</td>\n",
       "      <td>341.0</td>\n",
       "      <td>36.0</td>\n",
       "      <td>47.0</td>\n",
       "      <td>39.0</td>\n",
       "      <td>307.0</td>\n",
       "      <td>aug 2014</td>\n",
       "      <td>jan 2015</td>\n",
       "      <td>3566797</td>\n",
       "      <td>aug2014|jan2015</td>\n",
       "    </tr>\n",
       "    <tr>\n",
       "      <th>3</th>\n",
       "      <td>3</td>\n",
       "      <td>148</td>\n",
       "      <td>1996922</td>\n",
       "      <td>Taal</td>\n",
       "      <td>197.0</td>\n",
       "      <td>334.0</td>\n",
       "      <td>58.0</td>\n",
       "      <td>70.0</td>\n",
       "      <td>59.0</td>\n",
       "      <td>205.0</td>\n",
       "      <td>aug 2014</td>\n",
       "      <td>jan 2015</td>\n",
       "      <td>3566797</td>\n",
       "      <td>aug2014|jan2015</td>\n",
       "    </tr>\n",
       "    <tr>\n",
       "      <th>4</th>\n",
       "      <td>4</td>\n",
       "      <td>148</td>\n",
       "      <td>1996922</td>\n",
       "      <td>Woordenschat (extra)</td>\n",
       "      <td>30.0</td>\n",
       "      <td>48.0</td>\n",
       "      <td>15.0</td>\n",
       "      <td>19.0</td>\n",
       "      <td>15.0</td>\n",
       "      <td>30.0</td>\n",
       "      <td>aug 2014</td>\n",
       "      <td>jan 2015</td>\n",
       "      <td>3566797</td>\n",
       "      <td>aug2014|jan2015</td>\n",
       "    </tr>\n",
       "  </tbody>\n",
       "</table>\n",
       "</div>"
      ],
      "text/plain": [
       "   Unnamed: 0  school  classname                subject  CorrectAnswers  \\\n",
       "0           0     148    1996922  Automatiseren (extra)            21.0   \n",
       "1           1     148    1996922                Rekenen           295.0   \n",
       "2           2     148    1996922               Spelling           296.0   \n",
       "3           3     148    1996922                   Taal           197.0   \n",
       "4           4     148    1996922   Woordenschat (extra)            30.0   \n",
       "\n",
       "   TotalAnswers  CorrectAdaptive  TotalAdaptiveAnswers  \\\n",
       "0          25.0              0.0                   0.0   \n",
       "1         492.0             64.0                  77.0   \n",
       "2         341.0             36.0                  47.0   \n",
       "3         334.0             58.0                  70.0   \n",
       "4          48.0             15.0                  19.0   \n",
       "\n",
       "   TotalAdaptiveExercises  TotalExercises periode.van periode.tot  \\\n",
       "0                     0.0            21.0    aug 2014    jan 2015   \n",
       "1                    65.0           340.0    aug 2014    jan 2015   \n",
       "2                    39.0           307.0    aug 2014    jan 2015   \n",
       "3                    59.0           205.0    aug 2014    jan 2015   \n",
       "4                    15.0            30.0    aug 2014    jan 2015   \n",
       "\n",
       "   lln.ID.school          van.tot  \n",
       "0        3566797  aug2014|jan2015  \n",
       "1        3566797  aug2014|jan2015  \n",
       "2        3566797  aug2014|jan2015  \n",
       "3        3566797  aug2014|jan2015  \n",
       "4        3566797  aug2014|jan2015  "
      ]
     },
     "execution_count": 3,
     "metadata": {},
     "output_type": "execute_result"
    }
   ],
   "source": [
    "data = pd.read_csv(\"schoolData.csv\")\n",
    "data.head()"
   ]
  },
  {
   "cell_type": "code",
   "execution_count": 4,
   "metadata": {},
   "outputs": [
    {
     "data": {
      "text/plain": [
       "Index(['Unnamed: 0', 'school', 'classname', 'subject', 'CorrectAnswers',\n",
       "       'TotalAnswers', 'CorrectAdaptive', 'TotalAdaptiveAnswers',\n",
       "       'TotalAdaptiveExercises', 'TotalExercises', 'periode.van',\n",
       "       'periode.tot', 'lln.ID.school', 'van.tot'],\n",
       "      dtype='object')"
      ]
     },
     "execution_count": 4,
     "metadata": {},
     "output_type": "execute_result"
    }
   ],
   "source": [
    "data.columns"
   ]
  },
  {
   "cell_type": "code",
   "execution_count": 5,
   "metadata": {},
   "outputs": [
    {
     "data": {
      "text/html": [
       "<div>\n",
       "<style scoped>\n",
       "    .dataframe tbody tr th:only-of-type {\n",
       "        vertical-align: middle;\n",
       "    }\n",
       "\n",
       "    .dataframe tbody tr th {\n",
       "        vertical-align: top;\n",
       "    }\n",
       "\n",
       "    .dataframe thead th {\n",
       "        text-align: right;\n",
       "    }\n",
       "</style>\n",
       "<table border=\"1\" class=\"dataframe\">\n",
       "  <thead>\n",
       "    <tr style=\"text-align: right;\">\n",
       "      <th></th>\n",
       "      <th>classname</th>\n",
       "      <th>subject</th>\n",
       "      <th>CorrectAnswers</th>\n",
       "      <th>TotalAnswers</th>\n",
       "      <th>CorrectAdaptive</th>\n",
       "      <th>TotalAdaptiveAnswers</th>\n",
       "      <th>TotalAdaptiveExercises</th>\n",
       "      <th>TotalExercises</th>\n",
       "      <th>periode.van</th>\n",
       "      <th>periode.tot</th>\n",
       "    </tr>\n",
       "  </thead>\n",
       "  <tbody>\n",
       "    <tr>\n",
       "      <th>0</th>\n",
       "      <td>1996922</td>\n",
       "      <td>Automatiseren (extra)</td>\n",
       "      <td>21.0</td>\n",
       "      <td>25.0</td>\n",
       "      <td>0.0</td>\n",
       "      <td>0.0</td>\n",
       "      <td>0.0</td>\n",
       "      <td>21.0</td>\n",
       "      <td>aug 2014</td>\n",
       "      <td>jan 2015</td>\n",
       "    </tr>\n",
       "    <tr>\n",
       "      <th>1</th>\n",
       "      <td>1996922</td>\n",
       "      <td>Rekenen</td>\n",
       "      <td>295.0</td>\n",
       "      <td>492.0</td>\n",
       "      <td>64.0</td>\n",
       "      <td>77.0</td>\n",
       "      <td>65.0</td>\n",
       "      <td>340.0</td>\n",
       "      <td>aug 2014</td>\n",
       "      <td>jan 2015</td>\n",
       "    </tr>\n",
       "    <tr>\n",
       "      <th>2</th>\n",
       "      <td>1996922</td>\n",
       "      <td>Spelling</td>\n",
       "      <td>296.0</td>\n",
       "      <td>341.0</td>\n",
       "      <td>36.0</td>\n",
       "      <td>47.0</td>\n",
       "      <td>39.0</td>\n",
       "      <td>307.0</td>\n",
       "      <td>aug 2014</td>\n",
       "      <td>jan 2015</td>\n",
       "    </tr>\n",
       "    <tr>\n",
       "      <th>3</th>\n",
       "      <td>1996922</td>\n",
       "      <td>Taal</td>\n",
       "      <td>197.0</td>\n",
       "      <td>334.0</td>\n",
       "      <td>58.0</td>\n",
       "      <td>70.0</td>\n",
       "      <td>59.0</td>\n",
       "      <td>205.0</td>\n",
       "      <td>aug 2014</td>\n",
       "      <td>jan 2015</td>\n",
       "    </tr>\n",
       "    <tr>\n",
       "      <th>4</th>\n",
       "      <td>1996922</td>\n",
       "      <td>Woordenschat (extra)</td>\n",
       "      <td>30.0</td>\n",
       "      <td>48.0</td>\n",
       "      <td>15.0</td>\n",
       "      <td>19.0</td>\n",
       "      <td>15.0</td>\n",
       "      <td>30.0</td>\n",
       "      <td>aug 2014</td>\n",
       "      <td>jan 2015</td>\n",
       "    </tr>\n",
       "    <tr>\n",
       "      <th>...</th>\n",
       "      <td>...</td>\n",
       "      <td>...</td>\n",
       "      <td>...</td>\n",
       "      <td>...</td>\n",
       "      <td>...</td>\n",
       "      <td>...</td>\n",
       "      <td>...</td>\n",
       "      <td>...</td>\n",
       "      <td>...</td>\n",
       "      <td>...</td>\n",
       "    </tr>\n",
       "    <tr>\n",
       "      <th>2607</th>\n",
       "      <td>3084260</td>\n",
       "      <td>Automatiseren (extra)</td>\n",
       "      <td>70.0</td>\n",
       "      <td>110.0</td>\n",
       "      <td>0.0</td>\n",
       "      <td>0.0</td>\n",
       "      <td>0.0</td>\n",
       "      <td>75.0</td>\n",
       "      <td>feb 2016</td>\n",
       "      <td>jul 2016</td>\n",
       "    </tr>\n",
       "    <tr>\n",
       "      <th>2608</th>\n",
       "      <td>3084260</td>\n",
       "      <td>Rekenen</td>\n",
       "      <td>932.0</td>\n",
       "      <td>1346.0</td>\n",
       "      <td>405.0</td>\n",
       "      <td>558.0</td>\n",
       "      <td>453.0</td>\n",
       "      <td>1031.0</td>\n",
       "      <td>feb 2016</td>\n",
       "      <td>jul 2016</td>\n",
       "    </tr>\n",
       "    <tr>\n",
       "      <th>2609</th>\n",
       "      <td>3084260</td>\n",
       "      <td>Spelling</td>\n",
       "      <td>2200.0</td>\n",
       "      <td>2537.0</td>\n",
       "      <td>75.0</td>\n",
       "      <td>98.0</td>\n",
       "      <td>77.0</td>\n",
       "      <td>2214.0</td>\n",
       "      <td>feb 2016</td>\n",
       "      <td>jul 2016</td>\n",
       "    </tr>\n",
       "    <tr>\n",
       "      <th>2610</th>\n",
       "      <td>3084260</td>\n",
       "      <td>Taal</td>\n",
       "      <td>814.0</td>\n",
       "      <td>986.0</td>\n",
       "      <td>116.0</td>\n",
       "      <td>161.0</td>\n",
       "      <td>119.0</td>\n",
       "      <td>810.0</td>\n",
       "      <td>feb 2016</td>\n",
       "      <td>jul 2016</td>\n",
       "    </tr>\n",
       "    <tr>\n",
       "      <th>2611</th>\n",
       "      <td>3084260</td>\n",
       "      <td>Woordenschat (extra)</td>\n",
       "      <td>156.0</td>\n",
       "      <td>185.0</td>\n",
       "      <td>20.0</td>\n",
       "      <td>35.0</td>\n",
       "      <td>22.0</td>\n",
       "      <td>159.0</td>\n",
       "      <td>feb 2016</td>\n",
       "      <td>jul 2016</td>\n",
       "    </tr>\n",
       "  </tbody>\n",
       "</table>\n",
       "<p>2612 rows × 10 columns</p>\n",
       "</div>"
      ],
      "text/plain": [
       "      classname                subject  CorrectAnswers  TotalAnswers  \\\n",
       "0       1996922  Automatiseren (extra)            21.0          25.0   \n",
       "1       1996922                Rekenen           295.0         492.0   \n",
       "2       1996922               Spelling           296.0         341.0   \n",
       "3       1996922                   Taal           197.0         334.0   \n",
       "4       1996922   Woordenschat (extra)            30.0          48.0   \n",
       "...         ...                    ...             ...           ...   \n",
       "2607    3084260  Automatiseren (extra)            70.0         110.0   \n",
       "2608    3084260                Rekenen           932.0        1346.0   \n",
       "2609    3084260               Spelling          2200.0        2537.0   \n",
       "2610    3084260                   Taal           814.0         986.0   \n",
       "2611    3084260   Woordenschat (extra)           156.0         185.0   \n",
       "\n",
       "      CorrectAdaptive  TotalAdaptiveAnswers  TotalAdaptiveExercises  \\\n",
       "0                 0.0                   0.0                     0.0   \n",
       "1                64.0                  77.0                    65.0   \n",
       "2                36.0                  47.0                    39.0   \n",
       "3                58.0                  70.0                    59.0   \n",
       "4                15.0                  19.0                    15.0   \n",
       "...               ...                   ...                     ...   \n",
       "2607              0.0                   0.0                     0.0   \n",
       "2608            405.0                 558.0                   453.0   \n",
       "2609             75.0                  98.0                    77.0   \n",
       "2610            116.0                 161.0                   119.0   \n",
       "2611             20.0                  35.0                    22.0   \n",
       "\n",
       "      TotalExercises periode.van periode.tot  \n",
       "0               21.0    aug 2014    jan 2015  \n",
       "1              340.0    aug 2014    jan 2015  \n",
       "2              307.0    aug 2014    jan 2015  \n",
       "3              205.0    aug 2014    jan 2015  \n",
       "4               30.0    aug 2014    jan 2015  \n",
       "...              ...         ...         ...  \n",
       "2607            75.0    feb 2016    jul 2016  \n",
       "2608          1031.0    feb 2016    jul 2016  \n",
       "2609          2214.0    feb 2016    jul 2016  \n",
       "2610           810.0    feb 2016    jul 2016  \n",
       "2611           159.0    feb 2016    jul 2016  \n",
       "\n",
       "[2612 rows x 10 columns]"
      ]
     },
     "execution_count": 5,
     "metadata": {},
     "output_type": "execute_result"
    }
   ],
   "source": [
    "data = data[['classname', 'subject', 'CorrectAnswers', 'TotalAnswers', 'CorrectAdaptive', 'TotalAdaptiveAnswers',\n",
    "       'TotalAdaptiveExercises', 'TotalExercises', 'periode.van', 'periode.tot']]\n",
    "data"
   ]
  },
  {
   "cell_type": "code",
   "execution_count": 6,
   "metadata": {},
   "outputs": [],
   "source": [
    "data['start_year'] = data['periode.van'].apply(lambda x: x.split(' ')[1])\n",
    "data['start_month'] = data['periode.van'].apply(lambda x: x.split(' ')[0])\n",
    "\n",
    "data['end_year'] = data['periode.tot'].apply(lambda x: x.split(' ')[1])\n",
    "data['end_month'] = data['periode.tot'].apply(lambda x: x.split(' ')[0])"
   ]
  },
  {
   "cell_type": "code",
   "execution_count": 7,
   "metadata": {},
   "outputs": [],
   "source": [
    "data.drop('periode.tot', axis=1, inplace=True)\n",
    "data.drop('periode.van', axis=1, inplace=True)"
   ]
  },
  {
   "cell_type": "code",
   "execution_count": 8,
   "metadata": {},
   "outputs": [],
   "source": [
    "lower_ma = [m.lower() for m in month_abbr]\n",
    "\n",
    "data['start_month'] = data['start_month'].str.lower().map(lambda m: lower_ma.index(m)).astype('Int8')\n",
    "data['end_month'] = data['end_month'].str.lower().map(lambda m: lower_ma.index(m)).astype('Int8')"
   ]
  },
  {
   "cell_type": "code",
   "execution_count": 9,
   "metadata": {},
   "outputs": [],
   "source": [
    "from sklearn.preprocessing import LabelEncoder \n",
    "labelencoder= LabelEncoder()\n",
    "data['subject'] = labelencoder.fit_transform(data['subject'])"
   ]
  },
  {
   "cell_type": "code",
   "execution_count": 10,
   "metadata": {},
   "outputs": [],
   "source": [
    "data['classname'] = labelencoder.fit_transform(data['classname'])"
   ]
  },
  {
   "cell_type": "code",
   "execution_count": 11,
   "metadata": {},
   "outputs": [
    {
     "data": {
      "text/html": [
       "<div>\n",
       "<style scoped>\n",
       "    .dataframe tbody tr th:only-of-type {\n",
       "        vertical-align: middle;\n",
       "    }\n",
       "\n",
       "    .dataframe tbody tr th {\n",
       "        vertical-align: top;\n",
       "    }\n",
       "\n",
       "    .dataframe thead th {\n",
       "        text-align: right;\n",
       "    }\n",
       "</style>\n",
       "<table border=\"1\" class=\"dataframe\">\n",
       "  <thead>\n",
       "    <tr style=\"text-align: right;\">\n",
       "      <th></th>\n",
       "      <th>classname</th>\n",
       "      <th>subject</th>\n",
       "      <th>CorrectAnswers</th>\n",
       "      <th>TotalAnswers</th>\n",
       "      <th>CorrectAdaptive</th>\n",
       "      <th>TotalAdaptiveAnswers</th>\n",
       "      <th>TotalAdaptiveExercises</th>\n",
       "      <th>TotalExercises</th>\n",
       "      <th>start_year</th>\n",
       "      <th>start_month</th>\n",
       "      <th>end_year</th>\n",
       "      <th>end_month</th>\n",
       "    </tr>\n",
       "  </thead>\n",
       "  <tbody>\n",
       "    <tr>\n",
       "      <th>0</th>\n",
       "      <td>-1.313035</td>\n",
       "      <td>-1.629524</td>\n",
       "      <td>-1.112469</td>\n",
       "      <td>-1.181065</td>\n",
       "      <td>-0.697113</td>\n",
       "      <td>-0.707023</td>\n",
       "      <td>-0.700927</td>\n",
       "      <td>-1.101304</td>\n",
       "      <td>-1.605852</td>\n",
       "      <td>0.774913</td>\n",
       "      <td>-1.137323</td>\n",
       "      <td>-0.774913</td>\n",
       "    </tr>\n",
       "    <tr>\n",
       "      <th>1</th>\n",
       "      <td>-1.313035</td>\n",
       "      <td>-0.516955</td>\n",
       "      <td>-0.822018</td>\n",
       "      <td>-0.761551</td>\n",
       "      <td>-0.316072</td>\n",
       "      <td>-0.369172</td>\n",
       "      <td>-0.338674</td>\n",
       "      <td>-0.762794</td>\n",
       "      <td>-1.605852</td>\n",
       "      <td>0.774913</td>\n",
       "      <td>-1.137323</td>\n",
       "      <td>-0.774913</td>\n",
       "    </tr>\n",
       "    <tr>\n",
       "      <th>2</th>\n",
       "      <td>-1.313035</td>\n",
       "      <td>0.224757</td>\n",
       "      <td>-0.820958</td>\n",
       "      <td>-0.897197</td>\n",
       "      <td>-0.482777</td>\n",
       "      <td>-0.500802</td>\n",
       "      <td>-0.483575</td>\n",
       "      <td>-0.797812</td>\n",
       "      <td>-1.605852</td>\n",
       "      <td>0.774913</td>\n",
       "      <td>-1.137323</td>\n",
       "      <td>-0.774913</td>\n",
       "    </tr>\n",
       "    <tr>\n",
       "      <th>3</th>\n",
       "      <td>-1.313035</td>\n",
       "      <td>0.966469</td>\n",
       "      <td>-0.925902</td>\n",
       "      <td>-0.903485</td>\n",
       "      <td>-0.351794</td>\n",
       "      <td>-0.399885</td>\n",
       "      <td>-0.372113</td>\n",
       "      <td>-0.906050</td>\n",
       "      <td>-1.605852</td>\n",
       "      <td>0.774913</td>\n",
       "      <td>-1.137323</td>\n",
       "      <td>-0.774913</td>\n",
       "    </tr>\n",
       "    <tr>\n",
       "      <th>4</th>\n",
       "      <td>-1.313035</td>\n",
       "      <td>1.708182</td>\n",
       "      <td>-1.102929</td>\n",
       "      <td>-1.160404</td>\n",
       "      <td>-0.607807</td>\n",
       "      <td>-0.623657</td>\n",
       "      <td>-0.617330</td>\n",
       "      <td>-1.091753</td>\n",
       "      <td>-1.605852</td>\n",
       "      <td>0.774913</td>\n",
       "      <td>-1.137323</td>\n",
       "      <td>-0.774913</td>\n",
       "    </tr>\n",
       "    <tr>\n",
       "      <th>...</th>\n",
       "      <td>...</td>\n",
       "      <td>...</td>\n",
       "      <td>...</td>\n",
       "      <td>...</td>\n",
       "      <td>...</td>\n",
       "      <td>...</td>\n",
       "      <td>...</td>\n",
       "      <td>...</td>\n",
       "      <td>...</td>\n",
       "      <td>...</td>\n",
       "      <td>...</td>\n",
       "      <td>...</td>\n",
       "    </tr>\n",
       "    <tr>\n",
       "      <th>2607</th>\n",
       "      <td>-0.818957</td>\n",
       "      <td>-1.629524</td>\n",
       "      <td>-1.060527</td>\n",
       "      <td>-1.104708</td>\n",
       "      <td>-0.697113</td>\n",
       "      <td>-0.707023</td>\n",
       "      <td>-0.700927</td>\n",
       "      <td>-1.044001</td>\n",
       "      <td>1.001037</td>\n",
       "      <td>-1.290467</td>\n",
       "      <td>0.190062</td>\n",
       "      <td>1.290467</td>\n",
       "    </tr>\n",
       "    <tr>\n",
       "      <th>2608</th>\n",
       "      <td>-0.818957</td>\n",
       "      <td>-0.516955</td>\n",
       "      <td>-0.146771</td>\n",
       "      <td>0.005611</td>\n",
       "      <td>1.714164</td>\n",
       "      <td>1.741302</td>\n",
       "      <td>1.823699</td>\n",
       "      <td>-0.029532</td>\n",
       "      <td>1.001037</td>\n",
       "      <td>-1.290467</td>\n",
       "      <td>0.190062</td>\n",
       "      <td>1.290467</td>\n",
       "    </tr>\n",
       "    <tr>\n",
       "      <th>2609</th>\n",
       "      <td>-0.818957</td>\n",
       "      <td>0.224757</td>\n",
       "      <td>1.197362</td>\n",
       "      <td>1.075506</td>\n",
       "      <td>-0.250580</td>\n",
       "      <td>-0.277030</td>\n",
       "      <td>-0.271797</td>\n",
       "      <td>1.225820</td>\n",
       "      <td>1.001037</td>\n",
       "      <td>-1.290467</td>\n",
       "      <td>0.190062</td>\n",
       "      <td>1.290467</td>\n",
       "    </tr>\n",
       "    <tr>\n",
       "      <th>2610</th>\n",
       "      <td>-0.818957</td>\n",
       "      <td>0.966469</td>\n",
       "      <td>-0.271856</td>\n",
       "      <td>-0.317783</td>\n",
       "      <td>-0.006476</td>\n",
       "      <td>-0.000606</td>\n",
       "      <td>-0.037725</td>\n",
       "      <td>-0.264049</td>\n",
       "      <td>1.001037</td>\n",
       "      <td>-1.290467</td>\n",
       "      <td>0.190062</td>\n",
       "      <td>1.290467</td>\n",
       "    </tr>\n",
       "    <tr>\n",
       "      <th>2611</th>\n",
       "      <td>-0.818957</td>\n",
       "      <td>1.708182</td>\n",
       "      <td>-0.969364</td>\n",
       "      <td>-1.037335</td>\n",
       "      <td>-0.578038</td>\n",
       "      <td>-0.553454</td>\n",
       "      <td>-0.578319</td>\n",
       "      <td>-0.954864</td>\n",
       "      <td>1.001037</td>\n",
       "      <td>-1.290467</td>\n",
       "      <td>0.190062</td>\n",
       "      <td>1.290467</td>\n",
       "    </tr>\n",
       "  </tbody>\n",
       "</table>\n",
       "<p>2612 rows × 12 columns</p>\n",
       "</div>"
      ],
      "text/plain": [
       "      classname   subject  CorrectAnswers  TotalAnswers  CorrectAdaptive  \\\n",
       "0     -1.313035 -1.629524       -1.112469     -1.181065        -0.697113   \n",
       "1     -1.313035 -0.516955       -0.822018     -0.761551        -0.316072   \n",
       "2     -1.313035  0.224757       -0.820958     -0.897197        -0.482777   \n",
       "3     -1.313035  0.966469       -0.925902     -0.903485        -0.351794   \n",
       "4     -1.313035  1.708182       -1.102929     -1.160404        -0.607807   \n",
       "...         ...       ...             ...           ...              ...   \n",
       "2607  -0.818957 -1.629524       -1.060527     -1.104708        -0.697113   \n",
       "2608  -0.818957 -0.516955       -0.146771      0.005611         1.714164   \n",
       "2609  -0.818957  0.224757        1.197362      1.075506        -0.250580   \n",
       "2610  -0.818957  0.966469       -0.271856     -0.317783        -0.006476   \n",
       "2611  -0.818957  1.708182       -0.969364     -1.037335        -0.578038   \n",
       "\n",
       "      TotalAdaptiveAnswers  TotalAdaptiveExercises  TotalExercises  \\\n",
       "0                -0.707023               -0.700927       -1.101304   \n",
       "1                -0.369172               -0.338674       -0.762794   \n",
       "2                -0.500802               -0.483575       -0.797812   \n",
       "3                -0.399885               -0.372113       -0.906050   \n",
       "4                -0.623657               -0.617330       -1.091753   \n",
       "...                    ...                     ...             ...   \n",
       "2607             -0.707023               -0.700927       -1.044001   \n",
       "2608              1.741302                1.823699       -0.029532   \n",
       "2609             -0.277030               -0.271797        1.225820   \n",
       "2610             -0.000606               -0.037725       -0.264049   \n",
       "2611             -0.553454               -0.578319       -0.954864   \n",
       "\n",
       "      start_year  start_month  end_year  end_month  \n",
       "0      -1.605852     0.774913 -1.137323  -0.774913  \n",
       "1      -1.605852     0.774913 -1.137323  -0.774913  \n",
       "2      -1.605852     0.774913 -1.137323  -0.774913  \n",
       "3      -1.605852     0.774913 -1.137323  -0.774913  \n",
       "4      -1.605852     0.774913 -1.137323  -0.774913  \n",
       "...          ...          ...       ...        ...  \n",
       "2607    1.001037    -1.290467  0.190062   1.290467  \n",
       "2608    1.001037    -1.290467  0.190062   1.290467  \n",
       "2609    1.001037    -1.290467  0.190062   1.290467  \n",
       "2610    1.001037    -1.290467  0.190062   1.290467  \n",
       "2611    1.001037    -1.290467  0.190062   1.290467  \n",
       "\n",
       "[2612 rows x 12 columns]"
      ]
     },
     "execution_count": 11,
     "metadata": {},
     "output_type": "execute_result"
    }
   ],
   "source": [
    "data[data.columns] = StandardScaler().fit_transform(data)\n",
    "data"
   ]
  },
  {
   "cell_type": "code",
   "execution_count": 12,
   "metadata": {},
   "outputs": [
    {
     "name": "stdout",
     "output_type": "stream",
     "text": [
      "Explained variation per principal component: [0.41816021 0.18332413]\n",
      "Cumulative variance explained by 2 principal components: 60.15%\n"
     ]
    }
   ],
   "source": [
    "pca_2 = PCA(n_components=2)\n",
    "pca_2_result = pca_2.fit_transform(data)\n",
    "print('Explained variation per principal component: {}'.format(pca_2.explained_variance_ratio_))\n",
    "\n",
    "\n",
    "print('Cumulative variance explained by 2 principal components: {:.2%}'.format(np.sum(pca_2.explained_variance_ratio_)))"
   ]
  },
  {
   "cell_type": "code",
   "execution_count": 13,
   "metadata": {},
   "outputs": [
    {
     "data": {
      "text/html": [
       "<div>\n",
       "<style scoped>\n",
       "    .dataframe tbody tr th:only-of-type {\n",
       "        vertical-align: middle;\n",
       "    }\n",
       "\n",
       "    .dataframe tbody tr th {\n",
       "        vertical-align: top;\n",
       "    }\n",
       "\n",
       "    .dataframe thead th {\n",
       "        text-align: right;\n",
       "    }\n",
       "</style>\n",
       "<table border=\"1\" class=\"dataframe\">\n",
       "  <thead>\n",
       "    <tr style=\"text-align: right;\">\n",
       "      <th></th>\n",
       "      <th>classname</th>\n",
       "      <th>subject</th>\n",
       "      <th>CorrectAnswers</th>\n",
       "      <th>TotalAnswers</th>\n",
       "      <th>CorrectAdaptive</th>\n",
       "      <th>TotalAdaptiveAnswers</th>\n",
       "      <th>TotalAdaptiveExercises</th>\n",
       "      <th>TotalExercises</th>\n",
       "      <th>start_year</th>\n",
       "      <th>start_month</th>\n",
       "      <th>end_year</th>\n",
       "      <th>end_month</th>\n",
       "    </tr>\n",
       "  </thead>\n",
       "  <tbody>\n",
       "    <tr>\n",
       "      <th>PC_1</th>\n",
       "      <td>0.080198</td>\n",
       "      <td>0.017665</td>\n",
       "      <td>0.391382</td>\n",
       "      <td>0.405455</td>\n",
       "      <td>0.406521</td>\n",
       "      <td>0.40547</td>\n",
       "      <td>0.407954</td>\n",
       "      <td>0.397165</td>\n",
       "      <td>0.103856</td>\n",
       "      <td>0.055434</td>\n",
       "      <td>0.070137</td>\n",
       "      <td>0.055434</td>\n",
       "    </tr>\n",
       "    <tr>\n",
       "      <th>PC_2</th>\n",
       "      <td>0.010274</td>\n",
       "      <td>0.071872</td>\n",
       "      <td>0.009182</td>\n",
       "      <td>0.011342</td>\n",
       "      <td>0.078219</td>\n",
       "      <td>0.06946</td>\n",
       "      <td>0.074730</td>\n",
       "      <td>0.016318</td>\n",
       "      <td>0.170771</td>\n",
       "      <td>0.664953</td>\n",
       "      <td>0.253447</td>\n",
       "      <td>0.664953</td>\n",
       "    </tr>\n",
       "  </tbody>\n",
       "</table>\n",
       "</div>"
      ],
      "text/plain": [
       "      classname   subject  CorrectAnswers  TotalAnswers  CorrectAdaptive  \\\n",
       "PC_1   0.080198  0.017665        0.391382      0.405455         0.406521   \n",
       "PC_2   0.010274  0.071872        0.009182      0.011342         0.078219   \n",
       "\n",
       "      TotalAdaptiveAnswers  TotalAdaptiveExercises  TotalExercises  \\\n",
       "PC_1               0.40547                0.407954        0.397165   \n",
       "PC_2               0.06946                0.074730        0.016318   \n",
       "\n",
       "      start_year  start_month  end_year  end_month  \n",
       "PC_1    0.103856     0.055434  0.070137   0.055434  \n",
       "PC_2    0.170771     0.664953  0.253447   0.664953  "
      ]
     },
     "execution_count": 13,
     "metadata": {},
     "output_type": "execute_result"
    }
   ],
   "source": [
    "dataset_pca = pd.DataFrame(abs(pca_2.components_), columns=data.columns, index=['PC_1', 'PC_2'])\n",
    "dataset_pca"
   ]
  },
  {
   "cell_type": "code",
   "execution_count": 14,
   "metadata": {},
   "outputs": [
    {
     "name": "stdout",
     "output_type": "stream",
     "text": [
      "\n",
      "*************** Most important features *************************\n",
      "As per PC 1:\n",
      " CorrectAnswers            0.391382\n",
      "TotalAnswers              0.405455\n",
      "CorrectAdaptive           0.406521\n",
      "TotalAdaptiveAnswers      0.405470\n",
      "TotalAdaptiveExercises    0.407954\n",
      "TotalExercises            0.397165\n",
      "Name: PC_1, dtype: float64\n",
      "\n",
      "\n",
      "As per PC 2:\n",
      " start_month    0.664953\n",
      "end_month      0.664953\n",
      "Name: PC_2, dtype: float64\n",
      "\n",
      "******************************************************************\n"
     ]
    }
   ],
   "source": [
    "print(\"\\n*************** Most important features *************************\")\n",
    "print('As per PC 1:\\n', (dataset_pca[dataset_pca > 0.3].iloc[0]).dropna())   \n",
    "print('\\n\\nAs per PC 2:\\n', (dataset_pca[dataset_pca > 0.3].iloc[1]).dropna())\n",
    "print(\"\\n******************************************************************\")"
   ]
  },
  {
   "cell_type": "code",
   "execution_count": 26,
   "metadata": {},
   "outputs": [
    {
     "name": "stdout",
     "output_type": "stream",
     "text": [
      "Parameter: {'n_clusters': 2} Score 0.6198233316288473\n",
      "Parameter: {'n_clusters': 5} Score 0.5149287373488292\n",
      "Parameter: {'n_clusters': 20} Score 0.3846948095421726\n",
      "Parameter: {'n_clusters': 120} Score 0.7566766328829457\n"
     ]
    },
    {
     "data": {
      "image/png": "[encoded data removed]",
      "text/plain": [
       "<Figure size 432x288 with 1 Axes>"
      ]
     },
     "metadata": {
      "needs_background": "light"
     },
     "output_type": "display_data"
    }
   ],
   "source": [
    "from sklearn.model_selection import ParameterGrid\n",
    "from sklearn.metrics import silhouette_score\n",
    "\n",
    "parameters = [2, 5, 20, 120]\n",
    "# instantiating ParameterGrid, pass number of clusters as input\n",
    "parameter_grid = ParameterGrid({'n_clusters': parameters})\n",
    "best_score = -1\n",
    "kmeans_model = KMeans()     # instantiating KMeans model\n",
    "silhouette_scores = []\n",
    "# evaluation based on silhouette_score\n",
    "for p in parameter_grid:\n",
    "    kmeans_model.set_params(**p)    # set current hyper parameter\n",
    "    kmeans_model.fit(data)          # fit model on wine dataset, this will find clusters based on parameter p\n",
    "    ss = silhouette_score(data, kmeans_model.labels_)   # calculate silhouette_score\n",
    "    silhouette_scores += [ss]       # store all the scores\n",
    "    print('Parameter:', p, 'Score', ss)\n",
    "    # check p which has the best score\n",
    "    if ss > best_score:\n",
    "        best_score = ss\n",
    "        best_grid = p\n",
    "# plotting silhouette score\n",
    "plt.bar(range(len(silhouette_scores)), list(silhouette_scores), align='center', color='#722f59', width=0.5)\n",
    "plt.xticks(range(len(silhouette_scores)), list(parameters))\n",
    "plt.title('Silhouette Score', fontweight='bold')\n",
    "plt.xlabel('Number of Clusters')\n",
    "plt.show()"
   ]
  },
  {
   "cell_type": "code",
   "execution_count": null,
   "metadata": {},
   "outputs": [],
   "source": []
  },
  {
   "cell_type": "code",
   "execution_count": 16,
   "metadata": {},
   "outputs": [
    {
     "data": {
      "text/html": [
       "<style>#sk-container-id-1 {color: black;background-color: white;}#sk-container-id-1 pre{padding: 0;}#sk-container-id-1 div.sk-toggleable {background-color: white;}#sk-container-id-1 label.sk-toggleable__label {cursor: pointer;display: block;width: 100%;margin-bottom: 0;padding: 0.3em;box-sizing: border-box;text-align: center;}#sk-container-id-1 label.sk-toggleable__label-arrow:before {content: \"▸\";float: left;margin-right: 0.25em;color: #696969;}#sk-container-id-1 label.sk-toggleable__label-arrow:hover:before {color: black;}#sk-container-id-1 div.sk-estimator:hover label.sk-toggleable__label-arrow:before {color: black;}#sk-container-id-1 div.sk-toggleable__content {max-height: 0;max-width: 0;overflow: hidden;text-align: left;background-color: #f0f8ff;}#sk-container-id-1 div.sk-toggleable__content pre {margin: 0.2em;color: black;border-radius: 0.25em;background-color: #f0f8ff;}#sk-container-id-1 input.sk-toggleable__control:checked~div.sk-toggleable__content {max-height: 200px;max-width: 100%;overflow: auto;}#sk-container-id-1 input.sk-toggleable__control:checked~label.sk-toggleable__label-arrow:before {content: \"▾\";}#sk-container-id-1 div.sk-estimator input.sk-toggleable__control:checked~label.sk-toggleable__label {background-color: #d4ebff;}#sk-container-id-1 div.sk-label input.sk-toggleable__control:checked~label.sk-toggleable__label {background-color: #d4ebff;}#sk-container-id-1 input.sk-hidden--visually {border: 0;clip: rect(1px 1px 1px 1px);clip: rect(1px, 1px, 1px, 1px);height: 1px;margin: -1px;overflow: hidden;padding: 0;position: absolute;width: 1px;}#sk-container-id-1 div.sk-estimator {font-family: monospace;background-color: #f0f8ff;border: 1px dotted black;border-radius: 0.25em;box-sizing: border-box;margin-bottom: 0.5em;}#sk-container-id-1 div.sk-estimator:hover {background-color: #d4ebff;}#sk-container-id-1 div.sk-parallel-item::after {content: \"\";width: 100%;border-bottom: 1px solid gray;flex-grow: 1;}#sk-container-id-1 div.sk-label:hover label.sk-toggleable__label {background-color: #d4ebff;}#sk-container-id-1 div.sk-serial::before {content: \"\";position: absolute;border-left: 1px solid gray;box-sizing: border-box;top: 0;bottom: 0;left: 50%;z-index: 0;}#sk-container-id-1 div.sk-serial {display: flex;flex-direction: column;align-items: center;background-color: white;padding-right: 0.2em;padding-left: 0.2em;position: relative;}#sk-container-id-1 div.sk-item {position: relative;z-index: 1;}#sk-container-id-1 div.sk-parallel {display: flex;align-items: stretch;justify-content: center;background-color: white;position: relative;}#sk-container-id-1 div.sk-item::before, #sk-container-id-1 div.sk-parallel-item::before {content: \"\";position: absolute;border-left: 1px solid gray;box-sizing: border-box;top: 0;bottom: 0;left: 50%;z-index: -1;}#sk-container-id-1 div.sk-parallel-item {display: flex;flex-direction: column;z-index: 1;position: relative;background-color: white;}#sk-container-id-1 div.sk-parallel-item:first-child::after {align-self: flex-end;width: 50%;}#sk-container-id-1 div.sk-parallel-item:last-child::after {align-self: flex-start;width: 50%;}#sk-container-id-1 div.sk-parallel-item:only-child::after {width: 0;}#sk-container-id-1 div.sk-dashed-wrapped {border: 1px dashed gray;margin: 0 0.4em 0.5em 0.4em;box-sizing: border-box;padding-bottom: 0.4em;background-color: white;}#sk-container-id-1 div.sk-label label {font-family: monospace;font-weight: bold;display: inline-block;line-height: 1.2em;}#sk-container-id-1 div.sk-label-container {text-align: center;}#sk-container-id-1 div.sk-container {/* jupyter's `normalize.less` sets `[hidden] { display: none; }` but bootstrap.min.css set `[hidden] { display: none !important; }` so we also need the `!important` here to be able to override the default hidden behavior on the sphinx rendered scikit-learn.org. See: https://github.com/scikit-learn/scikit-learn/issues/21755 */display: inline-block !important;position: relative;}#sk-container-id-1 div.sk-text-repr-fallback {display: none;}</style><div id=\"sk-container-id-1\" class=\"sk-top-container\"><div class=\"sk-text-repr-fallback\"><pre>KMeans(n_clusters=120)</pre><b>In a Jupyter environment, please rerun this cell to show the HTML representation or trust the notebook. <br />On GitHub, the HTML representation is unable to render, please try loading this page with nbviewer.org.</b></div><div class=\"sk-container\" hidden><div class=\"sk-item\"><div class=\"sk-estimator sk-toggleable\"><input class=\"sk-toggleable__control sk-hidden--visually\" id=\"sk-estimator-id-1\" type=\"checkbox\" checked><label for=\"sk-estimator-id-1\" class=\"sk-toggleable__label sk-toggleable__label-arrow\">KMeans</label><div class=\"sk-toggleable__content\"><pre>KMeans(n_clusters=120)</pre></div></div></div></div></div>"
      ],
      "text/plain": [
       "KMeans(n_clusters=120)"
      ]
     },
     "execution_count": 16,
     "metadata": {},
     "output_type": "execute_result"
    }
   ],
   "source": [
    "kmeans = KMeans(n_clusters=120)\n",
    "kmeans.fit(data)"
   ]
  },
  {
   "cell_type": "code",
   "execution_count": 17,
   "metadata": {},
   "outputs": [
    {
     "data": {
      "text/html": [
       "<div>\n",
       "<style scoped>\n",
       "    .dataframe tbody tr th:only-of-type {\n",
       "        vertical-align: middle;\n",
       "    }\n",
       "\n",
       "    .dataframe tbody tr th {\n",
       "        vertical-align: top;\n",
       "    }\n",
       "\n",
       "    .dataframe thead th {\n",
       "        text-align: right;\n",
       "    }\n",
       "</style>\n",
       "<table border=\"1\" class=\"dataframe\">\n",
       "  <thead>\n",
       "    <tr style=\"text-align: right;\">\n",
       "      <th></th>\n",
       "      <th>classname</th>\n",
       "      <th>subject</th>\n",
       "      <th>CorrectAnswers</th>\n",
       "      <th>TotalAnswers</th>\n",
       "      <th>CorrectAdaptive</th>\n",
       "      <th>TotalAdaptiveAnswers</th>\n",
       "      <th>TotalAdaptiveExercises</th>\n",
       "      <th>TotalExercises</th>\n",
       "      <th>start_year</th>\n",
       "      <th>start_month</th>\n",
       "      <th>end_year</th>\n",
       "      <th>end_month</th>\n",
       "    </tr>\n",
       "  </thead>\n",
       "  <tbody>\n",
       "    <tr>\n",
       "      <th>PC_1</th>\n",
       "      <td>0.080198</td>\n",
       "      <td>0.017665</td>\n",
       "      <td>0.391382</td>\n",
       "      <td>0.405455</td>\n",
       "      <td>0.406521</td>\n",
       "      <td>0.40547</td>\n",
       "      <td>0.407954</td>\n",
       "      <td>0.397165</td>\n",
       "      <td>0.103856</td>\n",
       "      <td>0.055434</td>\n",
       "      <td>0.070137</td>\n",
       "      <td>0.055434</td>\n",
       "    </tr>\n",
       "    <tr>\n",
       "      <th>PC_2</th>\n",
       "      <td>0.010274</td>\n",
       "      <td>0.071872</td>\n",
       "      <td>0.009182</td>\n",
       "      <td>0.011342</td>\n",
       "      <td>0.078219</td>\n",
       "      <td>0.06946</td>\n",
       "      <td>0.074730</td>\n",
       "      <td>0.016318</td>\n",
       "      <td>0.170771</td>\n",
       "      <td>0.664953</td>\n",
       "      <td>0.253447</td>\n",
       "      <td>0.664953</td>\n",
       "    </tr>\n",
       "  </tbody>\n",
       "</table>\n",
       "</div>"
      ],
      "text/plain": [
       "      classname   subject  CorrectAnswers  TotalAnswers  CorrectAdaptive  \\\n",
       "PC_1   0.080198  0.017665        0.391382      0.405455         0.406521   \n",
       "PC_2   0.010274  0.071872        0.009182      0.011342         0.078219   \n",
       "\n",
       "      TotalAdaptiveAnswers  TotalAdaptiveExercises  TotalExercises  \\\n",
       "PC_1               0.40547                0.407954        0.397165   \n",
       "PC_2               0.06946                0.074730        0.016318   \n",
       "\n",
       "      start_year  start_month  end_year  end_month  \n",
       "PC_1    0.103856     0.055434  0.070137   0.055434  \n",
       "PC_2    0.170771     0.664953  0.253447   0.664953  "
      ]
     },
     "execution_count": 17,
     "metadata": {},
     "output_type": "execute_result"
    }
   ],
   "source": [
    "dataset_pca"
   ]
  },
  {
   "cell_type": "code",
   "execution_count": 23,
   "metadata": {},
   "outputs": [
    {
     "data": {
      "text/plain": [
       "[15, 15, 35, 35, 35, ..., 26, 78, 110, 109, 58]\n",
       "Length: 2612\n",
       "Categories (120, int64): [0, 1, 2, 3, ..., 116, 117, 118, 119]"
      ]
     },
     "execution_count": 23,
     "metadata": {},
     "output_type": "execute_result"
    }
   ],
   "source": [
    "pd.Categorical(kmeans.labels_)"
   ]
  },
  {
   "cell_type": "code",
   "execution_count": 25,
   "metadata": {},
   "outputs": [
    {
     "data": {
      "text/plain": [
       "<AxesSubplot:>"
      ]
     },
     "execution_count": 25,
     "metadata": {},
     "output_type": "execute_result"
    },
    {
     "data": {
      "image/png": "[encoded data removed]",
      "text/plain": [
       "<Figure size 432x288 with 1 Axes>"
      ]
     },
     "metadata": {
      "needs_background": "light"
     },
     "output_type": "display_data"
    }
   ],
   "source": [
    "dataset_pca['cluster'] = pd.Categorical(kmeans.labels_)\n",
    "sns.scatterplot(x=\"PC_1\",y=\"PC_2\",data=dataset_pca)"
   ]
  },
  {
   "cell_type": "code",
   "execution_count": null,
   "metadata": {},
   "outputs": [],
   "source": [
    "y = kmeans.predict(data)"
   ]
  },
  {
   "cell_type": "code",
   "execution_count": null,
   "metadata": {},
   "outputs": [],
   "source": [
    "data['cat'] = y"
   ]
  },
  {
   "cell_type": "code",
   "execution_count": null,
   "metadata": {},
   "outputs": [],
   "source": [
    "data"
   ]
  },
  {
   "cell_type": "code",
   "execution_count": null,
   "metadata": {},
   "outputs": [],
   "source": []
  },
  {
   "cell_type": "code",
   "execution_count": null,
   "metadata": {},
   "outputs": [],
   "source": []
  },
  {
   "cell_type": "code",
   "execution_count": null,
   "metadata": {},
   "outputs": [],
   "source": []
  },
  {
   "cell_type": "code",
   "execution_count": null,
   "metadata": {},
   "outputs": [],
   "source": [
    "data = pd.get_dummies(data, columns=['classname'])\n",
    "data = pd.get_dummies(data, columns=['subject'])"
   ]
  },
  {
   "cell_type": "code",
   "execution_count": null,
   "metadata": {},
   "outputs": [],
   "source": [
    "pd.DataFrame(data_scaled)"
   ]
  },
  {
   "cell_type": "code",
   "execution_count": null,
   "metadata": {},
   "outputs": [],
   "source": [
    "scaler = MinMaxScaler()\n",
    "data_scaled = scaler.fit_transform(data)\n",
    "\n",
    "# statistics of scaled data\n",
    "pd.DataFrame(data_scaled).describe()"
   ]
  },
  {
   "cell_type": "code",
   "execution_count": null,
   "metadata": {},
   "outputs": [],
   "source": [
    "wcss = []\n",
    "for i in range(1,250):\n",
    "    k_means = KMeans(n_clusters=i,init='k-means++', random_state=42)\n",
    "    k_means.fit(data_scaled)\n",
    "    wcss.append(k_means.inertia_)\n",
    "#plot elbow curve\n",
    "plt.plot(np.arange(1,250),wcss)\n",
    "plt.xlabel('Clusters')\n",
    "plt.ylabel('SSE')\n",
    "plt.show()"
   ]
  },
  {
   "cell_type": "code",
   "execution_count": null,
   "metadata": {},
   "outputs": [],
   "source": [
    "k_means_optimum = KMeans(n_clusters = 50, init = 'k-means++',  random_state=42)\n",
    "y = k_means_optimum.fit_predict(data_scaled)\n",
    "print(y)"
   ]
  },
  {
   "cell_type": "code",
   "execution_count": null,
   "metadata": {},
   "outputs": [],
   "source": [
    "data['cluster'] = y  "
   ]
  },
  {
   "cell_type": "code",
   "execution_count": null,
   "metadata": {},
   "outputs": [],
   "source": [
    "data1 = data[data.cluster==0]\n",
    "data2 = data[data.cluster==1]\n",
    "data3 = data[data.cluster==2]"
   ]
  },
  {
   "cell_type": "code",
   "execution_count": null,
   "metadata": {},
   "outputs": [],
   "source": [
    "data.head(1)"
   ]
  },
  {
   "cell_type": "code",
   "execution_count": null,
   "metadata": {},
   "outputs": [],
   "source": [
    "kplot = plt.axes(projection='3d')\n",
    "xline = np.linspace(0, 15, 1000)\n",
    "yline = np.linspace(0, 15, 1000)\n",
    "zline = np.linspace(0, 15, 1000)\n",
    "kplot.plot3D(xline, yline, zline, 'black')\n",
    "# Data for three-dimensional scattered points\n",
    "kplot.scatter3D(data1.CorrectAnswers, data1.TotalAdaptiveAnswers, data1.TotalExercises, c='red', label = 'Cluster 1')\n",
    "kplot.scatter3D(data2.CorrectAnswers,data2.TotalAdaptiveAnswers,data2.TotalExercises,c ='green', label = 'Cluster 2')\n",
    "# kplot.scatter3D(data3.CorrectAnswers,data3.TotalAdaptiveAnswers,data3.TotalExercises,c ='blue', label = 'Cluster 3')\n",
    "\n",
    "plt.scatter(k_means_optimum.cluster_centers_[:,0], k_means_optimum.cluster_centers_[:,1],k_means_optimum.cluster_centers_[:,2], color = 'indigo')\n",
    "plt.legend()\n",
    "plt.title(\"Kmeans\")\n",
    "plt.show()"
   ]
  },
  {
   "cell_type": "code",
   "execution_count": null,
   "metadata": {},
   "outputs": [],
   "source": [
    "from sklearn.metrics import silhouette_score\n",
    "score = silhouette_score(data_scaled,y)\n",
    "print(score)"
   ]
  },
  {
   "cell_type": "code",
   "execution_count": null,
   "metadata": {},
   "outputs": [],
   "source": [
    "# categorical_features_idx = [0, 1]\n",
    "\n",
    "# mark_array=data.values\n",
    "\n",
    "# kproto = KPrototypes(n_clusters=2, verbose=2, max_iter=20).fit(mark_array, categorical=categorical_features_idx)\n"
   ]
  },
  {
   "cell_type": "code",
   "execution_count": null,
   "metadata": {},
   "outputs": [],
   "source": [
    "# print(kproto.cluster_centroids_)"
   ]
  },
  {
   "cell_type": "code",
   "execution_count": null,
   "metadata": {},
   "outputs": [],
   "source": [
    "# clusters = kproto.predict(mark_array, categorical=categorical_features_idx)\n",
    "# data['cluster'] = list(clusters)"
   ]
  },
  {
   "cell_type": "code",
   "execution_count": null,
   "metadata": {},
   "outputs": [],
   "source": [
    "data[data['cluster']== 0].head(10)\n"
   ]
  },
  {
   "cell_type": "code",
   "execution_count": null,
   "metadata": {},
   "outputs": [],
   "source": []
  }
 ],
 "metadata": {
  "kernelspec": {
   "display_name": "Python 3.10.4 ('cyber')",
   "language": "python",
   "name": "python3"
  },
  "language_info": {
   "codemirror_mode": {
    "name": "ipython",
    "version": 3
   },
   "file_extension": ".py",
   "mimetype": "text/x-python",
   "name": "python",
   "nbconvert_exporter": "python",
   "pygments_lexer": "ipython3",
   "version": "3.10.4"
  },
  "orig_nbformat": 4,
  "vscode": {
   "interpreter": {
    "hash": "95622b543cc2217d2d6358bc56629c3cee7d37341fbd52e83e4299d474d10332"
   }
  }
 },
 "nbformat": 4,
 "nbformat_minor": 2
}
